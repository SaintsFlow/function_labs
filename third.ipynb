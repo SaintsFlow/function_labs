{
 "cells": [
  {
   "cell_type": "code",
   "execution_count": null,
   "id": "ee64e062",
   "metadata": {},
   "outputs": [],
   "source": [
    "for i in range(10):\n",
    "    print(i)"
   ]
  },
  {
   "cell_type": "code",
   "execution_count": null,
   "id": "782b5611",
   "metadata": {},
   "outputs": [],
   "source": [
    "i = 0\n",
    "while i < 10:\n",
    "    print(i)\n",
    "    i += 1\n"
   ]
  },
  {
   "cell_type": "code",
   "execution_count": null,
   "id": "85b2b1d5",
   "metadata": {},
   "outputs": [],
   "source": [
    "numbers = list(range(10))\n",
    "print(numbers)\n"
   ]
  },
  {
   "cell_type": "code",
   "execution_count": null,
   "id": "c6234e08",
   "metadata": {},
   "outputs": [],
   "source": [
    "numbers = list(range(5, 10))\n",
    "print(numbers)\n",
    "numbers = list(range(0, 10, 2))\n",
    "print(numbers)\n"
   ]
  },
  {
   "cell_type": "code",
   "execution_count": null,
   "id": "95f186ce",
   "metadata": {},
   "outputs": [],
   "source": [
    "from random import randint\n",
    "random_number = randint(1, 10)\n",
    "print(random_number)\n"
   ]
  },
  {
   "cell_type": "code",
   "execution_count": null,
   "id": "46d4f4bf",
   "metadata": {},
   "outputs": [],
   "source": [
    "from random import randrange\n",
    "random_number = randrange(1, 10, 2)\n",
    "print(random_number)\n"
   ]
  },
  {
   "cell_type": "code",
   "execution_count": null,
   "id": "383fea6f",
   "metadata": {},
   "outputs": [],
   "source": [
    "from random import random\n",
    "random_number = random()\n",
    "print(random_number)\n"
   ]
  },
  {
   "cell_type": "code",
   "execution_count": null,
   "id": "01901fca",
   "metadata": {},
   "outputs": [],
   "source": [
    "numbers = [1, 2, 3, 4, 5]\n",
    "for i, num in enumerate(numbers):\n",
    "    print(i, num)\n"
   ]
  },
  {
   "cell_type": "code",
   "execution_count": null,
   "id": "0062f45d",
   "metadata": {},
   "outputs": [],
   "source": [
    "A = int(input())\n",
    "B = int(input())\n",
    "for i in range(A, B + 1):\n",
    "    print(i)\n"
   ]
  },
  {
   "cell_type": "code",
   "execution_count": null,
   "id": "0ca32cb6",
   "metadata": {},
   "outputs": [],
   "source": [
    "A = int(input())\n",
    "B = int(input())\n",
    "if A < B:\n",
    "    for i in range(A, B + 1):\n",
    "        print(i)\n",
    "else:\n",
    "    for i in range(A, B - 1, -1):\n",
    "        print(i)"
   ]
  },
  {
   "cell_type": "code",
   "execution_count": null,
   "id": "98025522",
   "metadata": {},
   "outputs": [],
   "source": [
    "A = int(input())\n",
    "B = int(input())\n",
    "for i in range(A, B - 1, -2):\n",
    "    print(i)\n"
   ]
  },
  {
   "cell_type": "code",
   "execution_count": 1,
   "id": "199e6a36",
   "metadata": {},
   "outputs": [
    {
     "name": "stdout",
     "output_type": "stream",
     "text": [
      "5\n",
      "1\n",
      "2\n",
      "3\n",
      "4\n",
      "5\n"
     ]
    }
   ],
   "source": [
    "N = int(input())\n",
    "sum_cards = (1 + N) * N // 2\n",
    "for i in range(N - 1):\n",
    "    sum_cards -= int(input())\n",
    "print(sum_cards)\n"
   ]
  },
  {
   "cell_type": "code",
   "execution_count": null,
   "id": "5f346b26",
   "metadata": {},
   "outputs": [],
   "source": []
  },
  {
   "cell_type": "code",
   "execution_count": null,
   "id": "c3c62329",
   "metadata": {},
   "outputs": [],
   "source": []
  }
 ],
 "metadata": {
  "kernelspec": {
   "display_name": "Python 3 (ipykernel)",
   "language": "python",
   "name": "python3"
  },
  "language_info": {
   "codemirror_mode": {
    "name": "ipython",
    "version": 3
   },
   "file_extension": ".py",
   "mimetype": "text/x-python",
   "name": "python",
   "nbconvert_exporter": "python",
   "pygments_lexer": "ipython3",
   "version": "3.9.12"
  }
 },
 "nbformat": 4,
 "nbformat_minor": 5
}
